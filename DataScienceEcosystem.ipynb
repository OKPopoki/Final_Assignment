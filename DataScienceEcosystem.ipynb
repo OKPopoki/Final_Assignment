{
 "cells": [
  {
   "cell_type": "markdown",
   "id": "0fd5a539-d8f4-40e5-9e69-ff5a71b6800f",
   "metadata": {},
   "source": [
    "# Data Science Tools and Ecosystem"
   ]
  },
  {
   "cell_type": "markdown",
   "id": "12810987-b860-4969-8782-d5c1851317b6",
   "metadata": {},
   "source": [
    "In this notebook, Data Science Tools and Ecosystem are summarized."
   ]
  },
  {
   "cell_type": "markdown",
   "id": "74f6f0c7-25e3-4c50-ad58-b9ba5c3c32f6",
   "metadata": {},
   "source": [
    "**Objectives:**\n",
    "- List popular languages for Data Science\n",
    "- List commonly used libraries for Data Science\n",
    "- List common Data Science Tools\n",
    "- Evaluate arithemtic expressions in Python"
   ]
  },
  {
   "cell_type": "markdown",
   "id": "71e3f15b-aad9-4ed1-b28c-61ef2a2852c6",
   "metadata": {},
   "source": [
    "Some of the popular languages that Data Scientists use are:\n",
    "\n",
    "1. Python\n",
    "2. SQL\n",
    "3. R"
   ]
  },
  {
   "cell_type": "markdown",
   "id": "1aced94c-9a8e-452a-80a7-8ac340820255",
   "metadata": {},
   "source": [
    "Some of the commonly used libraries used by Data Scientists indlude:\n",
    "\n",
    "1. NumPy\n",
    "2. Pandas\n",
    "3. Scikit-learn"
   ]
  },
  {
   "cell_type": "markdown",
   "id": "25646763-0e11-40c6-92bd-d4cfa6f3f043",
   "metadata": {},
   "source": [
    "| Data Science Tools |\n",
    "| ------------------ |\n",
    "| Git |\n",
    "| TensorFlow |\n",
    "| Apache |"
   ]
  },
  {
   "cell_type": "markdown",
   "id": "0419e3a9-d397-49b0-9099-dd27cadcb7fb",
   "metadata": {},
   "source": [
    "### Below are a few examples of evaluating arithmetic expressions in Python"
   ]
  },
  {
   "cell_type": "code",
   "execution_count": 16,
   "id": "460d0a1e-b0b5-48b2-bda7-b4ce847ffcca",
   "metadata": {},
   "outputs": [
    {
     "data": {
      "text/plain": [
       "17"
      ]
     },
     "execution_count": 16,
     "metadata": {},
     "output_type": "execute_result"
    }
   ],
   "source": [
    "# This is a simple arithmetic expression to multiply then add integers.\n",
    "(3*4)+5"
   ]
  },
  {
   "cell_type": "code",
   "execution_count": 17,
   "id": "f0830af3-bb3c-4c81-a5f9-45c1f545df32",
   "metadata": {},
   "outputs": [
    {
     "data": {
      "text/plain": [
       "3.3333333333333335"
      ]
     },
     "execution_count": 17,
     "metadata": {},
     "output_type": "execute_result"
    }
   ],
   "source": [
    "# This will convert 200 minutes to hours by dividing 60\n",
    "200/60"
   ]
  },
  {
   "cell_type": "markdown",
   "id": "a338003b-d0f2-4474-b1fd-c839f851f6d2",
   "metadata": {},
   "source": [
    "## Author\n",
    "Owen Kreitzburg"
   ]
  },
  {
   "cell_type": "code",
   "execution_count": null,
   "id": "5b769281-a37a-4168-9b2b-a000477644fb",
   "metadata": {},
   "outputs": [],
   "source": []
  }
 ],
 "metadata": {
  "kernelspec": {
   "display_name": "example",
   "language": "python",
   "name": "example"
  },
  "language_info": {
   "codemirror_mode": {
    "name": "ipython",
    "version": 3
   },
   "file_extension": ".py",
   "mimetype": "text/x-python",
   "name": "python",
   "nbconvert_exporter": "python",
   "pygments_lexer": "ipython3",
   "version": "3.13.5"
  }
 },
 "nbformat": 4,
 "nbformat_minor": 5
}
